{
 "cells": [
  {
   "cell_type": "code",
   "execution_count": 15,
   "metadata": {},
   "outputs": [],
   "source": [
    "import os \n",
    "\n",
    "os.chdir(\"..\")\n",
    "\n",
    "os.chdir(\"Users/andrewcarr/Downloads/hw3-svm\")"
   ]
  },
  {
   "cell_type": "code",
   "execution_count": 16,
   "metadata": {},
   "outputs": [],
   "source": [
    "from load import folder_list\n",
    "from load import read_data\n",
    "import string\n",
    "import numpy as np\n",
    "import random\n",
    "from sklearn.model_selection import train_test_split"
   ]
  },
  {
   "cell_type": "code",
   "execution_count": 17,
   "metadata": {},
   "outputs": [],
   "source": [
    "files = os.listdir(\"data/neg\")\n",
    "\n",
    "neg_reviews = []\n",
    "pos_reviews = []\n",
    "\n",
    "for i in files:\n",
    "    file = os.path.join(\"data/neg\", i)\n",
    "    with open(file) as j:\n",
    "        thing = j.read()\n",
    "        \n",
    "    # \n",
    "    thing = ' '.join(thing.lower().translate(str.maketrans('','', string.punctuation)).split(\"\\n\")).split(' ')\n",
    "    neg_reviews.append(([i for i in thing if i != ''], 'neg')) \n",
    "    \n",
    "    \n",
    "files = os.listdir(\"data/pos\")\n",
    "\n",
    "for i in files:\n",
    "    file = os.path.join(\"data/pos\", i)\n",
    "    with open(file) as j:\n",
    "        thing = j.read()\n",
    "        \n",
    "    # \n",
    "    thing = ' '.join(thing.lower().translate(str.maketrans('','', string.punctuation)).split(\"\\n\")).split(' ')\n",
    "    pos_reviews.append(([i for i in thing if i != ''], 'pos'))  \n",
    "        "
   ]
  },
  {
   "cell_type": "code",
   "execution_count": 18,
   "metadata": {},
   "outputs": [],
   "source": [
    "reviews_full = neg_reviews + pos_reviews"
   ]
  },
  {
   "cell_type": "code",
   "execution_count": 32,
   "metadata": {},
   "outputs": [],
   "source": [
    "random.seed(123)\n",
    "\n",
    "training, test = train_test_split(reviews_full, test_size = .25)"
   ]
  },
  {
   "cell_type": "code",
   "execution_count": 33,
   "metadata": {},
   "outputs": [],
   "source": [
    "\n",
    "def bag_of_words(data):\n",
    "    \n",
    "    dict_list = []\n",
    "    \n",
    "    for i in data:\n",
    "        \n",
    "        test_dict = {}\n",
    "        \n",
    "        for j in i[0]:\n",
    "            \n",
    "            test_dict[j] = test_dict.get(j, 1) + 1\n",
    "            \n",
    "        dict_list.append(test_dict)\n",
    "        \n",
    "    return dict_list\n",
    "    "
   ]
  },
  {
   "cell_type": "code",
   "execution_count": 34,
   "metadata": {},
   "outputs": [],
   "source": [
    "training_list = bag_of_words(training)"
   ]
  },
  {
   "cell_type": "code",
   "execution_count": 35,
   "metadata": {},
   "outputs": [],
   "source": [
    "# Creating outcome \n",
    "\n",
    "outcome = [] \n",
    "\n",
    "for i in training:\n",
    "    \n",
    "    if i[1] == \"pos\":\n",
    "        outcome.append(1)\n",
    "    else:\n",
    "        outcome.append(-1)\n",
    "    \n"
   ]
  },
  {
   "cell_type": "code",
   "execution_count": 36,
   "metadata": {},
   "outputs": [],
   "source": [
    "def dotProduct(d1, d2):\n",
    "    \"\"\"\n",
    "    @param dict d1: a feature vector represented by a mapping from a feature (string) to a weight (float).\n",
    "    @param dict d2: same as d1\n",
    "    @return float: the dot product between d1 and d2\n",
    "    \"\"\"\n",
    "    if len(d1) < len(d2):\n",
    "        return dotProduct(d2, d1)\n",
    "    else:\n",
    "        return sum(d1.get(f, 0) * v for f, v in d2.items())"
   ]
  },
  {
   "cell_type": "code",
   "execution_count": 37,
   "metadata": {},
   "outputs": [],
   "source": [
    "def pegasos(data, outcome, lambda_reg, num_iter):\n",
    "    '''Implementation of Pegasos Alg'''\n",
    "    \n",
    "    coefs_dict = {}\n",
    "\n",
    "    for i in data:\n",
    "        for j in i:\n",
    "            coefs_dict[j] = coefs_dict.get(j, 0) \n",
    "     \n",
    "    \n",
    "    for z in range(num_iter):\n",
    "        \n",
    "        t = 0\n",
    "    \n",
    "        for i,j in enumerate(data):\n",
    "            \n",
    "            t += 1\n",
    "            \n",
    "            eta = 1/(t*lambda_reg)\n",
    "            step = (1-eta*lambda_reg)\n",
    "            \n",
    "            pred_y = dotProduct(j, coefs_dict)\n",
    "                \n",
    "            if outcome[i]*pred_y < 1:\n",
    "                \n",
    "                coefs_dict.update({k: step*coefs_dict.get(k) + eta*outcome[i]*j[k] for k,v in j.items()})\n",
    "                \n",
    "            else:\n",
    "                \n",
    "                coefs_dict.update({k: coefs_dict.get(k)*step for k in j.keys()})\n",
    "                \n",
    "                \n",
    "    return coefs_dict\n",
    "        \n",
    "            \n",
    "            \n",
    "        "
   ]
  },
  {
   "cell_type": "code",
   "execution_count": 44,
   "metadata": {},
   "outputs": [],
   "source": [
    "stored_coefs = pegasos(training_list, outcome, 1, 20)"
   ]
  },
  {
   "cell_type": "code",
   "execution_count": 45,
   "metadata": {},
   "outputs": [],
   "source": [
    "results = []\n",
    "\n",
    "for i in range(len(training_list)):\n",
    "    \n",
    "    if np.sign(outcome[i]*dotProduct(stored_coefs, training_list[i])) > 0:\n",
    "        results.append(1)\n",
    "    else:\n",
    "        results.append(0)"
   ]
  },
  {
   "cell_type": "code",
   "execution_count": 46,
   "metadata": {},
   "outputs": [
    {
     "data": {
      "text/plain": [
       "0.9806666666666667"
      ]
     },
     "execution_count": 46,
     "metadata": {},
     "output_type": "execute_result"
    }
   ],
   "source": [
    "np.sum(results)/len(results)"
   ]
  },
  {
   "cell_type": "code",
   "execution_count": 47,
   "metadata": {},
   "outputs": [],
   "source": [
    "## Representing X in R^2 with partial SVD\n"
   ]
  },
  {
   "cell_type": "code",
   "execution_count": 48,
   "metadata": {},
   "outputs": [],
   "source": [
    "words = set([i for sublist in training_list for i in sublist])"
   ]
  },
  {
   "cell_type": "code",
   "execution_count": 49,
   "metadata": {},
   "outputs": [],
   "source": [
    "X = np.zeros((len(training_list), len(words)))"
   ]
  },
  {
   "cell_type": "code",
   "execution_count": 50,
   "metadata": {},
   "outputs": [],
   "source": [
    "for i in range(len(X)):\n",
    "    for j,a in enumerate(training_list[i]):\n",
    "        \n",
    "        X[i,j] = training_list[i].get(a)\n",
    "        \n",
    "        "
   ]
  },
  {
   "cell_type": "code",
   "execution_count": 51,
   "metadata": {},
   "outputs": [],
   "source": [
    "from scipy.sparse import csc_matrix\n",
    "from scipy.sparse.linalg import svds, eigs"
   ]
  },
  {
   "cell_type": "code",
   "execution_count": 53,
   "metadata": {},
   "outputs": [],
   "source": [
    "X_sparse = csc_matrix(X)"
   ]
  },
  {
   "cell_type": "code",
   "execution_count": 123,
   "metadata": {},
   "outputs": [],
   "source": [
    "u, s, vt = svds(X_sparse, k=2)"
   ]
  },
  {
   "cell_type": "code",
   "execution_count": 124,
   "metadata": {},
   "outputs": [],
   "source": [
    "X_red = u"
   ]
  },
  {
   "cell_type": "code",
   "execution_count": 125,
   "metadata": {},
   "outputs": [],
   "source": [
    "import matplotlib.pyplot as plt"
   ]
  },
  {
   "cell_type": "code",
   "execution_count": 126,
   "metadata": {},
   "outputs": [],
   "source": [
    "guess = [] \n",
    "\n",
    "for i in range(len(outcome)):\n",
    "    guess.append(np.sign(dotProduct(stored_coefs, training_list[i])))"
   ]
  },
  {
   "cell_type": "code",
   "execution_count": 127,
   "metadata": {},
   "outputs": [],
   "source": [
    "pos_idx = [i for i, val in enumerate(guess) if val == 1]\n",
    "neg_idx = [i for i, val in enumerate(guess) if val == -1]"
   ]
  },
  {
   "cell_type": "code",
   "execution_count": 128,
   "metadata": {},
   "outputs": [
    {
     "data": {
      "text/plain": [
       "<matplotlib.collections.PathCollection at 0x16d1855c0>"
      ]
     },
     "execution_count": 128,
     "metadata": {},
     "output_type": "execute_result"
    },
    {
     "data": {
      "image/png": "[encoded data removed]",
      "text/plain": [
       "<Figure size 432x288 with 1 Axes>"
      ]
     },
     "metadata": {
      "needs_background": "light"
     },
     "output_type": "display_data"
    }
   ],
   "source": [
    "plt.scatter(X_red[:,0][pos_idx], X_red[:,1][pos_idx])\n",
    "\n",
    "plt.scatter(X_red[:,0][neg_idx], X_red[:,1][neg_idx], color = 'r')"
   ]
  },
  {
   "cell_type": "code",
   "execution_count": null,
   "metadata": {},
   "outputs": [],
   "source": []
  },
  {
   "cell_type": "code",
   "execution_count": null,
   "metadata": {},
   "outputs": [],
   "source": []
  }
 ],
 "metadata": {
  "kernelspec": {
   "display_name": "Python 3",
   "language": "python",
   "name": "python3"
  },
  "language_info": {
   "codemirror_mode": {
    "name": "ipython",
    "version": 3
   },
   "file_extension": ".py",
   "mimetype": "text/x-python",
   "name": "python",
   "nbconvert_exporter": "python",
   "pygments_lexer": "ipython3",
   "version": "3.7.3"
  }
 },
 "nbformat": 4,
 "nbformat_minor": 2
}
